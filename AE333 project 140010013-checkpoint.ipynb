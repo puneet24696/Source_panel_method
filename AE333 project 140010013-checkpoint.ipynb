{
 "cells": [
  {
   "cell_type": "code",
   "execution_count": 79,
   "metadata": {
    "collapsed": false
   },
   "outputs": [
    {
     "name": "stdout",
     "output_type": "stream",
     "text": [
      "[1, 0.97556012, 0.90467094, 0.79438303, 0.65552541, 0.5015921, 0.34746125, 0.20802116, 0.09182539, 0.01808884, 0.0, 0.03085464, 0.09915762, 0.20419359, 0.34352176, 0.4984079, 0.65349159, 0.79340222, 0.90434605, 0.97549639, 1]\n"
     ]
    }
   ],
   "source": [
    "#angle of attack 13,17,3, velocity = 20mps, NACA 23112, llinnear variation\n",
    "#got x coordinates for airfoil from airfoiltools , sorted 20 points for 20 panels\n",
    "#actually 21 points removed one extra point later\n",
    "fx = open(r\"C:\\Users\\Dell\\Desktop\\book\\Aerodynamics\\project\\Xcoaf.csv\",'r')\n",
    "x0=[]\n",
    "for f in fx.readlines():\n",
    "    a=float(f.split()[0])\n",
    "    x0.append(a)\n",
    "\n",
    "fx.close()\n",
    "#print(x0)\n",
    "x=[]\n",
    "x=x0[::6]\n",
    "#print(x)\n",
    "x[20]=1\n",
    "x[0]=1\n",
    "print(x)\n",
    "\n",
    "    "
   ]
  },
  {
   "cell_type": "code",
   "execution_count": 80,
   "metadata": {
    "collapsed": false
   },
   "outputs": [
    {
     "name": "stdout",
     "output_type": "stream",
     "text": [
      "[0, 0.00478884, 0.01472097, 0.02937287, 0.04640112, 0.06268632, 0.07422094, 0.07704596, 0.0644662, 0.03226111, 0.0, -0.01792743, -0.02733933, -0.03831882, -0.04486335, -0.04314629, -0.03540842, -0.02442852, -0.01310577, -0.0044959, 0]\n"
     ]
    }
   ],
   "source": [
    "#got y coordinates for airfoil from airfoiltools , sorted 20 points for 20 panels\n",
    "#actually 21 points removed one extra point later\n",
    "fy = open(r\"C:\\Users\\Dell\\Desktop\\book\\Aerodynamics\\project\\Ycoaf.csv\",'r')\n",
    "y0=[]\n",
    "for f in fy.readlines():\n",
    "    a=float(f.split()[0])\n",
    "    y0.append(a)\n",
    "\n",
    "fy.close()\n",
    "#print(y0)\n",
    "y=[]\n",
    "y=y0[::6]\n",
    "#print(y)\n",
    "y[20]=0\n",
    "y[0]=0\n",
    "print(y)"
   ]
  },
  {
   "cell_type": "code",
   "execution_count": 81,
   "metadata": {
    "collapsed": false
   },
   "outputs": [
    {
     "data": {
      "text/plain": [
       "\"\\nimport matplotlib.pyplot as paf\\n\\npaf.scatter(x,y)\\npaf.plot(x,y)\\npaf.axis([0, 1, -1, 1])\\npaf.xlabel('x/c')\\npaf.ylabel('y/c')\\npaf.title('Airfoil Geometry')\\npaf.show()\\n\""
      ]
     },
     "execution_count": 81,
     "metadata": {},
     "output_type": "execute_result"
    }
   ],
   "source": [
    "#plot of airfoil with 20 panels\n",
    "\n",
    "\"\"\"\n",
    "import matplotlib.pyplot as paf\n",
    "\n",
    "paf.scatter(x,y)\n",
    "paf.plot(x,y)\n",
    "paf.axis([0, 1, -1, 1])\n",
    "paf.xlabel('x/c')\n",
    "paf.ylabel('y/c')\n",
    "paf.title('Airfoil Geometry')\n",
    "paf.show()\n",
    "\"\"\"\n"
   ]
  },
  {
   "cell_type": "code",
   "execution_count": 82,
   "metadata": {
    "collapsed": false,
    "scrolled": true
   },
   "outputs": [
    {
     "data": {
      "text/plain": [
       "'\\nx[20]=[]\\nx.remove([])\\nprint(x)\\ny[20]=[]\\ny.remove([])\\nprint(y)\\n'"
      ]
     },
     "execution_count": 82,
     "metadata": {},
     "output_type": "execute_result"
    }
   ],
   "source": [
    "#removing common point\n",
    "#for all practical purposes we need 21points.\n",
    "\"\"\"\n",
    "x[20]=[]\n",
    "x.remove([])\n",
    "print(x)\n",
    "y[20]=[]\n",
    "y.remove([])\n",
    "print(y)\n",
    "\"\"\""
   ]
  },
  {
   "cell_type": "code",
   "execution_count": 83,
   "metadata": {
    "collapsed": false
   },
   "outputs": [
    {
     "name": "stdout",
     "output_type": "stream",
     "text": [
      "[0.0249046325602286, 0.07158158315802536, 0.11125691558630461, 0.1398978196046204, 0.15479235015528414, 0.15456185292712718, 0.13946870414974286, 0.11687475059888043, 0.08046270333397083, 0.0369862859851824, 0.03568475242921688, 0.06894839329883184, 0.10560825817378583, 0.13948179031138724, 0.15489565732822597, 0.1552766097522515, 0.14034080871580765, 0.11152012411502864, 0.07166938498084448, 0.024912647788665507]\n",
      "20\n"
     ]
    }
   ],
   "source": [
    "# s in length of panel\n",
    "s=[]\n",
    "for a in range(len(x)-1):\n",
    "    s.append(((x[a]-x[a+1])**2+(y[a]-y[a+1])**2)**(0.5))\n",
    "print(s)\n",
    "print(len(s)) \n"
   ]
  },
  {
   "cell_type": "code",
   "execution_count": 84,
   "metadata": {
    "collapsed": false
   },
   "outputs": [
    {
     "name": "stdout",
     "output_type": "stream",
     "text": [
      "[4.8156027271203525, 4.869893244807408, 4.877016994999669, 4.88707318006185, 4.903693151229478, 4.934397650084911, 4.988837984236685, -1.166246895264459, -0.8623021705241489, -0.21431591687136614, 1.3411491283299382, 1.7305683169117791, 1.7633497854781783, 1.8205647482709477, 1.8785877954952297, 1.917355759106375, 1.945819736749847, 1.9692085558047818, 1.98792631666353, 2.048963084772664] \n",
      " 20\n"
     ]
    }
   ],
   "source": [
    "#for angle of each panel\n",
    "#thetha is angle of panel from x axis\n",
    "#beta is angle inbetween velocity and perpendicular to plate angle.\n",
    "#alpha is angle of attack\n",
    "#print(x)\n",
    "#print(y)\n",
    "import math\n",
    "slope=[]\n",
    "thetha=[]\n",
    "for a in range(len(x)-1):\n",
    "    slope.append((y[a+1]-y[a])/(x[a+1]-x[a]))\n",
    "    thetha.append(math.atan2((y[a+1]-y[a]),(x[a+1]-x[a])))\n",
    "#print(thetha,\"\\n\",len(thetha))\n",
    "pi=math.pi\n",
    "#print(pi)\n",
    "beta=[]\n",
    "#alpha=input(\"Fill in the value of alpha in degrees i.e. angle of attack : \")\n",
    "#alpha=(pi/180)*float(alpha)\n",
    "alpha=-17*pi/180\n",
    "for a in range (len(x)-1):\n",
    "#    if y[a]>=0 and y[a+1]>=0:\n",
    "        beta.append((pi/2) + thetha[a]-alpha)\n",
    "#    elif y[a]<=0 and y[a+1]<=0:\n",
    "#        beta.append((pi/2)-thetha[a]+alpha)\n",
    "print(beta,'\\n',len(beta))\n",
    "\n",
    "#perpslope=[]    \n",
    "#for a in range(len(x)):\n",
    "   # perpslope.append((-1)/slope[a])"
   ]
  },
  {
   "cell_type": "code",
   "execution_count": 85,
   "metadata": {
    "collapsed": false
   },
   "outputs": [
    {
     "name": "stdout",
     "output_type": "stream",
     "text": [
      "[0.98778006, 0.94011553, 0.849526985, 0.72495422, 0.578558755, 0.42452667499999996, 0.277741205, 0.14992327500000002, 0.054957115, 0.00904442, 0.01542732, 0.06500613, 0.151675605, 0.273857675, 0.42096483, 0.575949745, 0.7234469050000001, 0.848874135, 0.93992122, 0.987748195] \n",
      " [0.00239442, 0.009754905, 0.022046919999999998, 0.037886995, 0.054543720000000004, 0.06845363, 0.07563344999999999, 0.07075608, 0.048363655000000005, 0.016130555, -0.008963715, -0.02263338, -0.032829075, -0.041591085, -0.04400482, -0.039277355, -0.029918470000000003, -0.018767145, -0.008800835, -0.00224795] \n",
      " 20 \n",
      " 20\n"
     ]
    }
   ],
   "source": [
    "#function for midpoint\n",
    "midx=[]\n",
    "midy=[]\n",
    "for a in range(len(x)-1):\n",
    "    midx.append((x[a]+x[a+1])/2)\n",
    "    midy.append((y[a]+y[a+1])/2)\n",
    "print(midx,'\\n',midy,'\\n',len(midx),'\\n',len(midy))"
   ]
  },
  {
   "cell_type": "code",
   "execution_count": 86,
   "metadata": {
    "collapsed": false
   },
   "outputs": [
    {
     "name": "stdout",
     "output_type": "stream",
     "text": [
      "{(-16.2144885661952, 44.4210298439444, -4.66939745874056, -5.86599342131944, -6.59899457013068, -14.9953408142525, -133.202068552703, -45.4837096651932, 102.892598410967, 551.941167456354, -257.074188299093, 142.908032865756, 153.370717841031, 61.9442723417289, 14.1625294125258, -44.2983854133458, -101.813626773645, -157.805550263642, 85.0342034218054, 82.8549827294162, -4.71004985759113, -5.11386573748425, -1.93413809574482, -2.45364085465082, -3.27428054410846, -4.29575442228094, -6.61346208380558, -25.1909819749162, -30.5068791983476, -22.2278625771446, -1.81360871060839, -10.9872374760034, -1.13395822041285, 15.0632561456416, 23.703354151402, 25.8970684541855, 19.0185653497026, 4.72995862999988, -12.8685359214419, -6.77418685986504)}\n",
      "[-4.91195779753769, -3.52400191661453, -2.19388947519782, -2.86396069937964, -3.78501748319470, -5.45460825304326, -15.9022220293609, -27.8489305866319, -26.3673708877461, -12.0207356438765, -6.40042309330590, -6.06059784820813, 6.96464896261438, 19.3833051485218, 24.8002113027937, 22.4578169019440, 11.8742619898512, -4.06928864572099, -9.82136139065345, -5.74211835872808] 20\n",
      "2.49800180540660e-15\n"
     ]
    }
   ],
   "source": [
    "#integral and normal velocity, finding values of variables m,c\n",
    "import math\n",
    "A=[]\n",
    "B=[]\n",
    "C=[]\n",
    "D=[]\n",
    "E=[]\n",
    "Cs=[]\n",
    "Ds=[]\n",
    "for i in range(20):\n",
    "    for a in range(20):\n",
    "        A.append(-(midx[i]-x[a])*(math.cos(thetha[a]))-(midy[i]-y[a])*(math.sin(thetha[a])))\n",
    "        B.append((midx[i]-x[a])**2+(midy[i]-y[a])**2)\n",
    "        C.append(math.sin(thetha[i]-thetha[a]))\n",
    "        D.append((midx[i]-y[a])*math.cos(thetha[i])+(midy[i]-x[a])*math.sin(thetha[i]))\n",
    "        E.append((midx[i]-x[a])*math.sin(thetha[a])-(midy[i]-y[a])*math.cos(thetha[a]))\n",
    "        Cs.append(-math.cos(thetha[i]-thetha[a])) \n",
    "        Ds.append(((midy[i]-y[a])*math.sin(thetha[i]))+((midx[i]-x[a])*math.cos(thetha[i])))\n",
    "for i in range(20):\n",
    "    A[i+20*i]=0\n",
    "    B[i+20*i]=0\n",
    "    C[i+20*i]=0\n",
    "    D[i+20*i]=0\n",
    "    E[i+20*i]=0\n",
    "    Cs[i+20*i]=0\n",
    "    Ds[i+20*i]=0\n",
    "    \n",
    "\n",
    "\"\"\"\n",
    "print(A,len(A))\n",
    "print(B,len(B))\n",
    "print(C,len(C))\n",
    "print(D,len(D))\n",
    "print(E,len(E))\n",
    "print(Cs,len(Cs))\n",
    "print(Ds,len(Ds))\n",
    "\"\"\"\n",
    "\n",
    "import sympy\n",
    "L=sympy.symarray('l',20)\n",
    "m=sympy.symarray('m',20)\n",
    "c=sympy.symarray('c',20)\n",
    "for i in range(20):\n",
    "    L[i]=m[i]*s[i]+c[i]\n",
    "#Ii=sympy.symarray('Ii',20)\n",
    "equation=sympy.symarray('e',20)\n",
    "Iii=[]\n",
    "\n",
    "\"\"\"\n",
    "for i in range(19):\n",
    "    c[i+1]=m[i]*s[i]+c[i]\n",
    "c[0]=m[19]*s[19]+c[19] \n",
    "#print(c,len(c))\n",
    "\"\"\"\n",
    "\n",
    "for i in range(20):\n",
    "    Ii=0\n",
    "    for j in range(20):\n",
    "        if C[20*i+j]!=0:\n",
    "            I = (m[i]*C[20*i+j]*s[i])+(m[i]*(D[20*i+j]-2*A[20*i+j]*C[20*i+j])*math.log((s[i]**2+2*A[20*i+j]*s[i]+B[20*i+j])/B[20*i+j])/2)-m[i]*(B[20*i+j]*C[20*i+j]+A[20*i+j]*(D[20*i+j]-2*A[20*i+j]*C[20*i+j]))*(math.atan((s[i]+A[20*i+j])/E[20*i+j])-math.atan(A[20*i+j]/E[20*i+j]))+c[i]*C[20*i+j]*math.log((s[i]**2+2*A[20*i+j]*s[i]+B[20*i+j])/B[20*i+j])/2+c[i]*(D[20*i+j]-A[20*i+j]*C[20*i+j])*(math.atan((s[i]+A[20*i+j])/E[20*i+j])-math.atan(A[20*i+j]/E[20*i+j]))\n",
    "            Ii=Ii+I\n",
    "        elif C[20*i+j]==0:\n",
    "            Ii=Ii\n",
    "    Iii.append(Ii)    \n",
    "for i in range(20):\n",
    "    equation[i]=(m[i]*s[i]/2+c[i])/2 + Iii[i]/(2*pi) + 20*math.cos(beta[i])\n",
    "    \n",
    "#print(equation,len(equation))\n",
    "\n",
    "d=sympy.symarray('d',20)\n",
    "for i in range(19):\n",
    "    d[19-i]=m[19-i-1]*s[19-i-1]+c[19-i-1]-c[19-i]\n",
    "d[0]=m[19]*s[19]+c[19]-c[0] \n",
    "#print(d,len(d))\n",
    "\n",
    "equationf=[]\n",
    "for i in range(20):\n",
    "    equationf.append(equation[i])\n",
    "for i in range(20):    \n",
    "    equationf.append(d[i])\n",
    "#print(equationf,len(equationf))\n",
    "\n",
    "\n",
    "var=[]\n",
    "\n",
    "for i in range(20):\n",
    "    var.append(m[i])\n",
    "for i in range(20):\n",
    "    var.append(c[i])\n",
    "#print(var)\n",
    "#print(c)\n",
    "phyequation=0\n",
    "for i in range(19):\n",
    "    prod = ((c[i]+c[i+1])/2)*s[i]\n",
    "    \n",
    "    phyequation = phyequation + prod\n",
    "    \n",
    "    #print(phyequation)\n",
    "\n",
    "phyequation=phyequation+((c[19]+c[0])/2)*s[19]\n",
    "#print(phyequation)\n",
    "equationf[5]=phyequation\n",
    "\n",
    "\n",
    "valuemc=sympy.linsolve(equationf,var)\n",
    "print(valuemc)\n",
    "#print(type(valuemc))\n",
    "\n",
    "\n",
    "\n",
    "\n",
    "nnvaluemc=[]\n",
    "nnvaluemc=list(valuemc)\n",
    "#print(nnvaluemc)\n",
    "#print(type(nnvaluemc))\n",
    "\n",
    "nvaluemc=nnvaluemc[0]\n",
    "#print(nvaluemc)\n",
    "\n",
    "Lmid=[]\n",
    "for i in range(19):\n",
    "    Lmid.append((nvaluemc[20+i]+nvaluemc[20+i+1])/2)\n",
    "Lmid.append((nvaluemc[39]+nvaluemc[20])/2)\n",
    "print(Lmid,len(Lmid))\n",
    "\n",
    "phyeq=0\n",
    "for i in range(20):\n",
    "    chu=Lmid[i]*s[i]\n",
    "    phyeq=phyeq+chu\n",
    "print(phyeq)\n"
   ]
  },
  {
   "cell_type": "code",
   "execution_count": 87,
   "metadata": {
    "collapsed": false
   },
   "outputs": [
    {
     "name": "stdout",
     "output_type": "stream",
     "text": [
      "[-17.8591506845211, -19.2487912503068, -19.7903609010601, -19.7363555741259, -19.9356698496306, -21.0099790569149, -33.7643117645640, -31.7342507644525, -26.3482083047110, -17.7311471267666, 24.6842093123715, 24.1592567665421, 27.8695345498143, 23.6376415405367, 19.1368513209340, 14.2599762731850, 11.2318664320988, 9.76960135607182, 18.6295481840904, 16.2416140073228] 20\n",
      "[0.202626842068926, 0.0737100885052770, 0.0208540385144829, 0.0261906716291763, 0.00642266911632483, -0.103548049930005, -1.85007187233669, -1.51765667895289, -0.735570202171109, 0.214016053922393, -0.523275473442414, -0.459174218779275, -0.941777390058228, -0.396845243997270, 0.0844523038011635, 0.491632691720503, 0.684612941128730, 0.761387223358599, 0.132349836141639, 0.340524936092840] 20\n"
     ]
    }
   ],
   "source": [
    "#for velocity along panel, for Cp values\n",
    "m=[]\n",
    "m=nvaluemc[:20]\n",
    "#print(m,len(m))\n",
    "c=nvaluemc[20:40]\n",
    "#print(c,len(c))\n",
    "Iiii=[]\n",
    "equations=[]\n",
    "for i in range(20):\n",
    "    Ii=0\n",
    "    for j in range(20):\n",
    "        if Cs[20*i+j]!=0:\n",
    "            I = (m[i]*Cs[20*i+j]*s[i])+(m[i]*(Ds[20*i+j]-2*A[20*i+j]*Cs[20*i+j])*math.log((s[i]**2+2*A[20*i+j]*s[i]+B[20*i+j])/B[20*i+j])/2)-m[i]*(B[20*i+j]*Cs[20*i+j]+A[20*i+j]*(Ds[20*i+j]-2*A[20*i+j]*Cs[20*i+j]))*(math.atan((s[i]+A[20*i+j])/E[20*i+j])-math.atan(A[20*i+j]/E[20*i+j]))+c[i]*Cs[20*i+j]*math.log((s[i]**2+2*A[20*i+j]*s[i]+B[20*i+j])/B[20*i+j])/2+c[i]*(Ds[20*i+j]-A[20*i+j]*Cs[20*i+j])*(math.atan((s[i]+A[20*i+j])/E[20*i+j])-math.atan(A[20*i+j]/E[20*i+j]))\n",
    "            Ii=Ii+I\n",
    "        elif Cs[20*i+j]==0:\n",
    "            Ii=Ii\n",
    "    Iiii.append(Ii)    \n",
    "#print(Iiii,len(Iiii))\n",
    "\n",
    "for i in range(20):\n",
    "    equations.append(s[i]*2 + Iiii[i]/(2*pi) + 20*math.sin(beta[i]))\n",
    "print(equations,len(equations))\n",
    "                     \n",
    "Cp=[]\n",
    "for i in range(20):\n",
    "    Cp.append(1-(equations[i]/20)**2)\n",
    "print(Cp,len(Cp))\n"
   ]
  },
  {
   "cell_type": "code",
   "execution_count": 88,
   "metadata": {
    "collapsed": false
   },
   "outputs": [],
   "source": [
    "#plot of Cp\n",
    "import matplotlib.pyplot as Cpp\n",
    "Cp1=[]\n",
    "for i in range(20):\n",
    "    Cp1.append(-Cp[i])\n",
    "\n",
    "Cpp.scatter(midx,Cp1)\n",
    "Cpp.plot(midx,Cp1)\n",
    "#Cpp.axis([0, 1, , ])\n",
    "Cpp.xlabel('x/c')\n",
    "Cpp.ylabel('Cp')\n",
    "Cpp.title('Cp plot')\n",
    "Cpp.show()\n"
   ]
  },
  {
   "cell_type": "code",
   "execution_count": 89,
   "metadata": {
    "collapsed": false
   },
   "outputs": [
    {
     "name": "stdout",
     "output_type": "stream",
     "text": [
      "-0.520492109801303 0.244262168258484\n"
     ]
    }
   ],
   "source": [
    "#Normal force and axial force for Cl and Cd\n",
    "\n",
    "\n",
    "Cl=0.0\n",
    "Cd=0.0\n",
    "for i in range(20):\n",
    "    Cl= Cl+(s[i]*Cp[i]*math.sin(beta[i]))\n",
    "    Cd= Cd+(s[i]*Cp[i]*math.cos(beta[i]))\n",
    "Cl1=-Cl\n",
    "Cd1=-Cd\n",
    "print(Cl1,Cd1)    "
   ]
  },
  {
   "cell_type": "code",
   "execution_count": 94,
   "metadata": {
    "collapsed": true
   },
   "outputs": [],
   "source": [
    "#Cl plot\n",
    "import matplotlib.pyplot as Cpp\n",
    "alpha=[-17,3,13]\n",
    "Cl=[-0.520492109801303,0.0889150370339646,0.445365250686917]\n",
    "Cpp.scatter(alpha,Cl)\n",
    "Cpp.plot(alpha,Cl)\n",
    "#Cpp.axis([0, 1, , ])\n",
    "Cpp.xlabel('alpha')\n",
    "Cpp.ylabel('Cl')\n",
    "Cpp.title('Cl plot')\n",
    "Cpp.show()\n"
   ]
  },
  {
   "cell_type": "code",
   "execution_count": 93,
   "metadata": {
    "collapsed": true
   },
   "outputs": [],
   "source": [
    "#Cd plot\n",
    "import matplotlib.pyplot as Cpp\n",
    "alpha=[-17,3,13]\n",
    "Cd=[0.244262168258484,0.0655827474350012,0.144715452124645]\n",
    "Cpp.scatter(alpha,Cd)\n",
    "Cpp.plot(alpha,Cd)\n",
    "#Cpp.axis([0, 1, , ])\n",
    "Cpp.xlabel('alpha')\n",
    "Cpp.ylabel('Cd')\n",
    "Cpp.title('Cd plot')\n",
    "Cpp.show()"
   ]
  },
  {
   "cell_type": "code",
   "execution_count": null,
   "metadata": {
    "collapsed": true
   },
   "outputs": [],
   "source": []
  }
 ],
 "metadata": {
  "anaconda-cloud": {},
  "kernelspec": {
   "display_name": "Python [default]",
   "language": "python",
   "name": "python3"
  },
  "language_info": {
   "codemirror_mode": {
    "name": "ipython",
    "version": 3
   },
   "file_extension": ".py",
   "mimetype": "text/x-python",
   "name": "python",
   "nbconvert_exporter": "python",
   "pygments_lexer": "ipython3",
   "version": "3.5.2"
  }
 },
 "nbformat": 4,
 "nbformat_minor": 0
}
